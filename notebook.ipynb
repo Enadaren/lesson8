{
 "cells": [
  {
   "cell_type": "code",
   "execution_count": 3,
   "metadata": {},
   "outputs": [
    {
     "data": {
      "text/plain": [
       "scputimes(user=234.98, nice=5.41, system=47.34, idle=1442.09, iowait=2.46, irq=0.0, softirq=0.89, steal=0.0, guest=0.0, guest_nice=0.0)"
      ]
     },
     "execution_count": 3,
     "metadata": {},
     "output_type": "execute_result"
    }
   ],
   "source": [
    "import os\n",
    "import psutil\n",
    "psutil.cpu_times()"
   ]
  },
  {
   "cell_type": "code",
   "execution_count": 16,
   "metadata": {},
   "outputs": [
    {
     "name": "stdout",
     "output_type": "stream",
     "text": [
      "43.7\n"
     ]
    },
    {
     "name": "stdout",
     "output_type": "stream",
     "text": [
      "98.0\n",
      "scputimes(user=38.7, nice=0.0, system=5.3, idle=56.0, iowait=0.0, irq=0.0, softirq=0.0, steal=0.0, guest=0.0, guest_nice=0.0)\n",
      "scputimes(user=86.0, nice=0.0, system=9.0, idle=4.0, iowait=0.0, irq=0.0, softirq=0.0, steal=0.0, guest=0.0, guest_nice=0.0)\n",
      "scpufreq(current=2894.562, min=0.0, max=0.0)\n",
      "[scpufreq(current=2894.562, min=0.0, max=0.0)]\n"
     ]
    }
   ],
   "source": [
    "print(psutil.cpu_percent())\n",
    "print(psutil.cpu_percent(interval=1))\n",
    "print(psutil.cpu_times_percent(interval=0))\n",
    "print(psutil.cpu_times_percent(interval=1))\n",
    "print(psutil.cpu_freq())"
   ]
  },
  {
   "cell_type": "code",
   "execution_count": 19,
   "metadata": {},
   "outputs": [
    {
     "name": "stdout",
     "output_type": "stream",
     "text": [
      "load on last 1 minute: 91.31%\n",
      "load on last 5 minutes: 80.13%\n",
      "load on last 15 minutes: 62.70%\n"
     ]
    }
   ],
   "source": [
    "a=psutil.getloadavg()\n",
    "print(f\"load on last 1 minute: {a[0]*100:.2f}%\")\n",
    "print(f\"load on last 5 minutes: {a[1]*100:.2f}%\")\n",
    "print(f\"load on last 15 minutes: {a[2]*100:.2f}%\")"
   ]
  },
  {
   "cell_type": "code",
   "execution_count": 22,
   "metadata": {},
   "outputs": [
    {
     "name": "stdout",
     "output_type": "stream",
     "text": [
      "Total memory: 7918 Mb\n",
      "Avaliable memory: 5359 Mb\n",
      "Used memory: 2216 Mb\n",
      "Free memory: 3654 Mb\n"
     ]
    }
   ],
   "source": [
    "a=psutil.virtual_memory()\n",
    "print(f\"Total memory: {a[0]/1024/1024:.0f} Mb\")\n",
    "print(f\"Avaliable memory: {a[1]/1024/1024:.0f} Mb\")\n",
    "print(f\"Used memory: {a[3]/1024/1024:.0f} Mb\")\n",
    "print(f\"Free memory: {a[4]/1024/1024:.0f} Mb\")"
   ]
  },
  {
   "cell_type": "code",
   "execution_count": 24,
   "metadata": {},
   "outputs": [
    {
     "name": "stdout",
     "output_type": "stream",
     "text": [
      "Total swap memory: 2048 Mb\n",
      "Used swap memory: 0 Mb\n",
      "Free swap memory: 2048 Mb\n"
     ]
    }
   ],
   "source": [
    "a = psutil.swap_memory()\n",
    "print(f\"Total swap memory: {a[0]/1024/1024:.0f} Mb\")\n",
    "print(f\"Used swap memory: {a[1]/1024/1024:.0f} Mb\")\n",
    "print(f\"Free swap memory: {a[2]/1024/1024:.0f} Mb\")"
   ]
  },
  {
   "cell_type": "code",
   "execution_count": 32,
   "metadata": {},
   "outputs": [
    {
     "name": "stdout",
     "output_type": "stream",
     "text": [
      "18 partitions of physical devices\n",
      "45 partitions of all devices\n"
     ]
    }
   ],
   "source": [
    "a=psutil.disk_partitions()\n",
    "print(f\"{len(a)} partitions of physical devices\")\n",
    "a=psutil.disk_partitions(all=True)\n",
    "print(f\"{len(a)} partitions of all devices\")"
   ]
  },
  {
   "cell_type": "code",
   "execution_count": 42,
   "metadata": {},
   "outputs": [
    {
     "name": "stdout",
     "output_type": "stream",
     "text": [
      "sdiskusage(total=25711349760, used=15439142912, free=8940204032, percent=63.3)\n",
      "sdiskio(read_count=37207, write_count=25775, read_bytes=1526460416, write_bytes=539894784, read_time=11867, write_time=20441, read_merged_count=6872, write_merged_count=33405, busy_time=58516)\n",
      "{'loop0': sdiskio(read_count=14, write_count=0, read_bytes=17408, write_bytes=0, read_time=0, write_time=0, read_merged_count=0, write_merged_count=0, busy_time=16), 'loop1': sdiskio(read_count=45, write_count=0, read_bytes=357376, write_bytes=0, read_time=9, write_time=0, read_merged_count=0, write_merged_count=0, busy_time=40), 'loop2': sdiskio(read_count=50, write_count=0, read_bytes=370688, write_bytes=0, read_time=10, write_time=0, read_merged_count=0, write_merged_count=0, busy_time=48), 'loop3': sdiskio(read_count=415, write_count=0, read_bytes=5102592, write_bytes=0, read_time=62, write_time=0, read_merged_count=0, write_merged_count=0, busy_time=620), 'loop4': sdiskio(read_count=56, write_count=0, read_bytes=1101824, write_bytes=0, read_time=12, write_time=0, read_merged_count=0, write_merged_count=0, busy_time=60), 'loop5': sdiskio(read_count=1159, write_count=0, read_bytes=61433856, write_bytes=0, read_time=330, write_time=0, read_merged_count=0, write_merged_count=0, busy_time=1484), 'loop6': sdiskio(read_count=53, write_count=0, read_bytes=1111040, write_bytes=0, read_time=12, write_time=0, read_merged_count=0, write_merged_count=0, busy_time=40), 'loop7': sdiskio(read_count=57, write_count=0, read_bytes=1127424, write_bytes=0, read_time=11, write_time=0, read_merged_count=0, write_merged_count=0, busy_time=44), 'sr0': sdiskio(read_count=0, write_count=0, read_bytes=0, write_bytes=0, read_time=0, write_time=0, read_merged_count=0, write_merged_count=0, busy_time=0), 'sda': sdiskio(read_count=29814, write_count=25775, read_bytes=1364430848, write_bytes=539894784, read_time=10928, write_time=20441, read_merged_count=6872, write_merged_count=33405, busy_time=51908), 'sda1': sdiskio(read_count=158, write_count=2, read_bytes=5823488, write_bytes=1024, read_time=58, write_time=0, read_merged_count=21, write_merged_count=0, busy_time=160), 'sda2': sdiskio(read_count=29547, write_count=25773, read_bytes=1356366848, write_bytes=539893760, read_time=10838, write_time=20441, read_merged_count=6851, write_merged_count=33405, busy_time=51796), 'loop8': sdiskio(read_count=57, write_count=0, read_bytes=1091584, write_bytes=0, read_time=17, write_time=0, read_merged_count=0, write_merged_count=0, busy_time=68), 'loop9': sdiskio(read_count=2557, write_count=0, read_bytes=56132608, write_bytes=0, read_time=291, write_time=0, read_merged_count=0, write_merged_count=0, busy_time=1424), 'loop10': sdiskio(read_count=2191, write_count=0, read_bytes=10695680, write_bytes=0, read_time=55, write_time=0, read_merged_count=0, write_merged_count=0, busy_time=676), 'loop11': sdiskio(read_count=48, write_count=0, read_bytes=369664, write_bytes=0, read_time=9, write_time=0, read_merged_count=0, write_merged_count=0, busy_time=44), 'loop12': sdiskio(read_count=43, write_count=0, read_bytes=356352, write_bytes=0, read_time=9, write_time=0, read_merged_count=0, write_merged_count=0, busy_time=48), 'loop13': sdiskio(read_count=605, write_count=0, read_bytes=22425600, write_bytes=0, read_time=108, write_time=0, read_merged_count=0, write_merged_count=0, busy_time=1916), 'loop14': sdiskio(read_count=32, write_count=0, read_bytes=321536, write_bytes=0, read_time=4, write_time=0, read_merged_count=0, write_merged_count=0, busy_time=68), 'loop15': sdiskio(read_count=11, write_count=0, read_bytes=14336, write_bytes=0, read_time=0, write_time=0, read_merged_count=0, write_merged_count=0, busy_time=12)}\n",
      "sdiskio(read_count=37207, write_count=25775, read_bytes=1526460416, write_bytes=539894784, read_time=11867, write_time=20441, read_merged_count=6872, write_merged_count=33405, busy_time=58516)\n",
      "{'loop0': sdiskio(read_count=14, write_count=0, read_bytes=17408, write_bytes=0, read_time=0, write_time=0, read_merged_count=0, write_merged_count=0, busy_time=16), 'loop1': sdiskio(read_count=45, write_count=0, read_bytes=357376, write_bytes=0, read_time=9, write_time=0, read_merged_count=0, write_merged_count=0, busy_time=40), 'loop2': sdiskio(read_count=50, write_count=0, read_bytes=370688, write_bytes=0, read_time=10, write_time=0, read_merged_count=0, write_merged_count=0, busy_time=48), 'loop3': sdiskio(read_count=415, write_count=0, read_bytes=5102592, write_bytes=0, read_time=62, write_time=0, read_merged_count=0, write_merged_count=0, busy_time=620), 'loop4': sdiskio(read_count=56, write_count=0, read_bytes=1101824, write_bytes=0, read_time=12, write_time=0, read_merged_count=0, write_merged_count=0, busy_time=60), 'loop5': sdiskio(read_count=1159, write_count=0, read_bytes=61433856, write_bytes=0, read_time=330, write_time=0, read_merged_count=0, write_merged_count=0, busy_time=1484), 'loop6': sdiskio(read_count=53, write_count=0, read_bytes=1111040, write_bytes=0, read_time=12, write_time=0, read_merged_count=0, write_merged_count=0, busy_time=40), 'loop7': sdiskio(read_count=57, write_count=0, read_bytes=1127424, write_bytes=0, read_time=11, write_time=0, read_merged_count=0, write_merged_count=0, busy_time=44), 'sr0': sdiskio(read_count=0, write_count=0, read_bytes=0, write_bytes=0, read_time=0, write_time=0, read_merged_count=0, write_merged_count=0, busy_time=0), 'sda': sdiskio(read_count=29814, write_count=25782, read_bytes=1364430848, write_bytes=539915264, read_time=10928, write_time=20450, read_merged_count=6872, write_merged_count=33405, busy_time=51916), 'sda1': sdiskio(read_count=158, write_count=2, read_bytes=5823488, write_bytes=1024, read_time=58, write_time=0, read_merged_count=21, write_merged_count=0, busy_time=160), 'sda2': sdiskio(read_count=29547, write_count=25780, read_bytes=1356366848, write_bytes=539914240, read_time=10838, write_time=20450, read_merged_count=6851, write_merged_count=33405, busy_time=51804), 'loop8': sdiskio(read_count=57, write_count=0, read_bytes=1091584, write_bytes=0, read_time=17, write_time=0, read_merged_count=0, write_merged_count=0, busy_time=68), 'loop9': sdiskio(read_count=2557, write_count=0, read_bytes=56132608, write_bytes=0, read_time=291, write_time=0, read_merged_count=0, write_merged_count=0, busy_time=1424), 'loop10': sdiskio(read_count=2191, write_count=0, read_bytes=10695680, write_bytes=0, read_time=55, write_time=0, read_merged_count=0, write_merged_count=0, busy_time=676), 'loop11': sdiskio(read_count=48, write_count=0, read_bytes=369664, write_bytes=0, read_time=9, write_time=0, read_merged_count=0, write_merged_count=0, busy_time=44), 'loop12': sdiskio(read_count=43, write_count=0, read_bytes=356352, write_bytes=0, read_time=9, write_time=0, read_merged_count=0, write_merged_count=0, busy_time=48), 'loop13': sdiskio(read_count=605, write_count=0, read_bytes=22425600, write_bytes=0, read_time=108, write_time=0, read_merged_count=0, write_merged_count=0, busy_time=1916), 'loop14': sdiskio(read_count=32, write_count=0, read_bytes=321536, write_bytes=0, read_time=4, write_time=0, read_merged_count=0, write_merged_count=0, busy_time=68), 'loop15': sdiskio(read_count=11, write_count=0, read_bytes=14336, write_bytes=0, read_time=0, write_time=0, read_merged_count=0, write_merged_count=0, busy_time=12)}\n"
     ]
    }
   ],
   "source": [
    "print(psutil.disk_usage('/home'))\n",
    "print(psutil.disk_io_counters())\n",
    "print(psutil.disk_io_counters(perdisk=True))\n",
    "print(psutil.disk_io_counters(nowrap=False))\n",
    "print(psutil.disk_io_counters(perdisk=True,nowrap=False))"
   ]
  },
  {
   "cell_type": "code",
   "execution_count": 51,
   "metadata": {},
   "outputs": [
    {
     "name": "stdout",
     "output_type": "stream",
     "text": [
      "Family AddressFamily.AF_INET\n",
      "Local adress addr(ip='127.0.0.1', port=9009)\n",
      "Remote adress ()\n",
      "Status of TCP connection LISTEN\n",
      "\n",
      "Family AddressFamily.AF_INET\n",
      "Local adress addr(ip='10.0.2.15', port=35400)\n",
      "Remote adress addr(ip='10.255.255.2', port=53)\n",
      "Status of TCP connection NONE\n",
      "\n",
      "Family AddressFamily.AF_INET\n",
      "Local adress addr(ip='127.0.0.1', port=9010)\n",
      "Remote adress addr(ip='127.0.0.1', port=46034)\n",
      "Status of TCP connection ESTABLISHED\n",
      "\n",
      "Family AddressFamily.AF_INET\n",
      "Local adress addr(ip='127.0.0.53', port=53)\n",
      "Remote adress ()\n",
      "Status of TCP connection LISTEN\n",
      "\n",
      "Family AddressFamily.AF_INET\n",
      "Local adress addr(ip='10.0.2.15', port=41490)\n",
      "Remote adress addr(ip='10.10.0.254', port=53)\n",
      "Status of TCP connection NONE\n",
      "\n",
      "Family AddressFamily.AF_INET\n",
      "Local adress addr(ip='127.0.0.1', port=59169)\n",
      "Remote adress addr(ip='127.0.0.53', port=53)\n",
      "Status of TCP connection NONE\n",
      "\n",
      "Family AddressFamily.AF_INET\n",
      "Local adress addr(ip='127.0.0.53', port=53)\n",
      "Remote adress ()\n",
      "Status of TCP connection NONE\n",
      "\n",
      "Family AddressFamily.AF_INET\n",
      "Local adress addr(ip='127.0.0.1', port=9011)\n",
      "Remote adress addr(ip='127.0.0.1', port=47434)\n",
      "Status of TCP connection ESTABLISHED\n",
      "\n",
      "Family AddressFamily.AF_INET\n",
      "Local adress addr(ip='127.0.0.1', port=37767)\n",
      "Remote adress addr(ip='127.0.0.53', port=53)\n",
      "Status of TCP connection NONE\n",
      "\n",
      "Family AddressFamily.AF_INET\n",
      "Local adress addr(ip='10.0.2.15', port=34489)\n",
      "Remote adress addr(ip='10.255.255.2', port=53)\n",
      "Status of TCP connection NONE\n",
      "\n",
      "Family AddressFamily.AF_INET\n",
      "Local adress addr(ip='10.0.2.15', port=68)\n",
      "Remote adress addr(ip='10.0.2.2', port=67)\n",
      "Status of TCP connection NONE\n",
      "\n",
      "Family AddressFamily.AF_INET\n",
      "Local adress addr(ip='10.0.2.15', port=40740)\n",
      "Remote adress addr(ip='10.255.255.2', port=53)\n",
      "Status of TCP connection NONE\n",
      "\n",
      "Family AddressFamily.AF_INET\n",
      "Local adress addr(ip='10.0.2.15', port=56816)\n",
      "Remote adress addr(ip='10.255.255.2', port=53)\n",
      "Status of TCP connection NONE\n",
      "\n",
      "Family AddressFamily.AF_INET\n",
      "Local adress addr(ip='127.0.0.1', port=9011)\n",
      "Remote adress ()\n",
      "Status of TCP connection LISTEN\n",
      "\n",
      "Family AddressFamily.AF_INET\n",
      "Local adress addr(ip='10.0.2.15', port=49442)\n",
      "Remote adress addr(ip='10.255.255.2', port=53)\n",
      "Status of TCP connection NONE\n",
      "\n",
      "Family AddressFamily.AF_INET\n",
      "Local adress addr(ip='10.0.2.15', port=53586)\n",
      "Remote adress addr(ip='10.10.0.254', port=53)\n",
      "Status of TCP connection NONE\n",
      "\n",
      "Family AddressFamily.AF_INET\n",
      "Local adress addr(ip='10.0.2.15', port=40332)\n",
      "Remote adress addr(ip='10.10.0.254', port=53)\n",
      "Status of TCP connection NONE\n",
      "\n",
      "Family AddressFamily.AF_INET\n",
      "Local adress addr(ip='127.0.0.1', port=9012)\n",
      "Remote adress ()\n",
      "Status of TCP connection LISTEN\n",
      "\n",
      "Family AddressFamily.AF_INET\n",
      "Local adress addr(ip='10.0.2.15', port=52781)\n",
      "Remote adress addr(ip='10.255.255.2', port=53)\n",
      "Status of TCP connection NONE\n",
      "\n",
      "Family AddressFamily.AF_INET\n",
      "Local adress addr(ip='10.0.2.15', port=52042)\n",
      "Remote adress addr(ip='10.255.255.2', port=53)\n",
      "Status of TCP connection NONE\n",
      "\n",
      "Family AddressFamily.AF_INET\n",
      "Local adress addr(ip='10.0.2.15', port=56723)\n",
      "Remote adress addr(ip='10.10.0.254', port=53)\n",
      "Status of TCP connection NONE\n",
      "\n",
      "Family AddressFamily.AF_INET\n",
      "Local adress addr(ip='0.0.0.0', port=631)\n",
      "Remote adress ()\n",
      "Status of TCP connection NONE\n",
      "\n",
      "Family AddressFamily.AF_INET\n",
      "Local adress addr(ip='10.0.2.15', port=48643)\n",
      "Remote adress addr(ip='10.10.0.254', port=53)\n",
      "Status of TCP connection NONE\n",
      "\n",
      "Family AddressFamily.AF_INET\n",
      "Local adress addr(ip='127.0.0.1', port=9012)\n",
      "Remote adress addr(ip='127.0.0.1', port=46722)\n",
      "Status of TCP connection ESTABLISHED\n",
      "\n",
      "Family AddressFamily.AF_INET\n",
      "Local adress addr(ip='127.0.0.1', port=46042)\n",
      "Remote adress addr(ip='127.0.0.1', port=9010)\n",
      "Status of TCP connection ESTABLISHED\n",
      "\n",
      "Family AddressFamily.AF_INET6\n",
      "Local adress addr(ip='::', port=5353)\n",
      "Remote adress ()\n",
      "Status of TCP connection NONE\n",
      "\n",
      "Family AddressFamily.AF_INET6\n",
      "Local adress addr(ip='::', port=43600)\n",
      "Remote adress ()\n",
      "Status of TCP connection NONE\n",
      "\n",
      "Family AddressFamily.AF_INET\n",
      "Local adress addr(ip='127.0.0.1', port=9010)\n",
      "Remote adress ()\n",
      "Status of TCP connection LISTEN\n",
      "\n",
      "Family AddressFamily.AF_INET\n",
      "Local adress addr(ip='127.0.0.1', port=35187)\n",
      "Remote adress ()\n",
      "Status of TCP connection LISTEN\n",
      "\n",
      "Family AddressFamily.AF_INET\n",
      "Local adress addr(ip='127.0.0.1', port=9010)\n",
      "Remote adress addr(ip='127.0.0.1', port=46042)\n",
      "Status of TCP connection ESTABLISHED\n",
      "\n",
      "Family AddressFamily.AF_INET\n",
      "Local adress addr(ip='127.0.0.1', port=46722)\n",
      "Remote adress addr(ip='127.0.0.1', port=9012)\n",
      "Status of TCP connection ESTABLISHED\n",
      "\n",
      "Family AddressFamily.AF_INET\n",
      "Local adress addr(ip='127.0.0.1', port=40704)\n",
      "Remote adress addr(ip='127.0.0.1', port=9009)\n",
      "Status of TCP connection ESTABLISHED\n",
      "\n",
      "Family AddressFamily.AF_INET\n",
      "Local adress addr(ip='127.0.0.1', port=39087)\n",
      "Remote adress ()\n",
      "Status of TCP connection LISTEN\n",
      "\n",
      "Family AddressFamily.AF_INET\n",
      "Local adress addr(ip='127.0.0.1', port=9008)\n",
      "Remote adress ()\n",
      "Status of TCP connection LISTEN\n",
      "\n",
      "Family AddressFamily.AF_INET\n",
      "Local adress addr(ip='0.0.0.0', port=5353)\n",
      "Remote adress ()\n",
      "Status of TCP connection NONE\n",
      "\n",
      "Family AddressFamily.AF_INET\n",
      "Local adress addr(ip='127.0.0.1', port=47434)\n",
      "Remote adress addr(ip='127.0.0.1', port=9011)\n",
      "Status of TCP connection ESTABLISHED\n",
      "\n",
      "Family AddressFamily.AF_INET\n",
      "Local adress addr(ip='127.0.0.1', port=9009)\n",
      "Remote adress addr(ip='127.0.0.1', port=40704)\n",
      "Status of TCP connection ESTABLISHED\n",
      "\n",
      "Family AddressFamily.AF_INET6\n",
      "Local adress addr(ip='::1', port=631)\n",
      "Remote adress ()\n",
      "Status of TCP connection LISTEN\n",
      "\n",
      "Family AddressFamily.AF_INET\n",
      "Local adress addr(ip='0.0.0.0', port=54032)\n",
      "Remote adress ()\n",
      "Status of TCP connection NONE\n",
      "\n",
      "Family AddressFamily.AF_INET\n",
      "Local adress addr(ip='127.0.0.1', port=631)\n",
      "Remote adress ()\n",
      "Status of TCP connection LISTEN\n",
      "\n",
      "Family AddressFamily.AF_INET\n",
      "Local adress addr(ip='127.0.0.1', port=37421)\n",
      "Remote adress addr(ip='127.0.0.53', port=53)\n",
      "Status of TCP connection NONE\n",
      "\n",
      "Family AddressFamily.AF_INET\n",
      "Local adress addr(ip='10.0.2.15', port=39043)\n",
      "Remote adress addr(ip='10.10.0.254', port=53)\n",
      "Status of TCP connection NONE\n",
      "\n",
      "Family AddressFamily.AF_INET\n",
      "Local adress addr(ip='127.0.0.1', port=46034)\n",
      "Remote adress addr(ip='127.0.0.1', port=9010)\n",
      "Status of TCP connection ESTABLISHED\n",
      "\n",
      "Family AddressFamily.AF_INET\n",
      "Local adress addr(ip='10.0.2.15', port=58328)\n",
      "Remote adress addr(ip='10.10.0.254', port=53)\n",
      "Status of TCP connection NONE\n",
      "\n"
     ]
    }
   ],
   "source": [
    "a=psutil.net_connections()\n",
    "for i in range(len(a)):\n",
    "    print(\"Family\", a[i][1])\n",
    "    print(\"Local adress\", a[i][3])\n",
    "    print(\"Remote adress\", a[i][4])\n",
    "    print(\"Status of TCP connection\", a[i][5])\n",
    "    print(\"\")\n",
    "\n",
    "      "
   ]
  },
  {
   "cell_type": "code",
   "execution_count": 57,
   "metadata": {},
   "outputs": [
    {
     "name": "stdout",
     "output_type": "stream",
     "text": [
      "19762 days, 6 hours, 57 minutes\n"
     ]
    }
   ],
   "source": [
    "a =psutil.boot_time()\n",
    "print( f\"{a//3600//24:.0f} days, {a//3600%24:.0f} hours, {a//60%60:.0f} minutes\")"
   ]
  }
 ],
 "metadata": {
  "kernelspec": {
   "display_name": ".lesson8venv",
   "language": "python",
   "name": "python3"
  },
  "language_info": {
   "codemirror_mode": {
    "name": "ipython",
    "version": 3
   },
   "file_extension": ".py",
   "mimetype": "text/x-python",
   "name": "python",
   "nbconvert_exporter": "python",
   "pygments_lexer": "ipython3",
   "version": "3.10.12"
  }
 },
 "nbformat": 4,
 "nbformat_minor": 2
}
